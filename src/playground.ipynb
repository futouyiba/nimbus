{
 "cells": [
  {
   "cell_type": "code",
   "execution_count": 4,
   "id": "initial_id",
   "metadata": {
    "ExecuteTime": {
     "end_time": "2024-04-11T09:12:52.861026Z",
     "start_time": "2024-04-11T09:12:50.981243Z"
    },
    "collapsed": true
   },
   "outputs": [
    {
     "name": "stderr",
     "output_type": "stream",
     "text": [
      "usage: ipykernel_launcher.py [-h] [--hidden_size1 HIDDEN_SIZE1]\n",
      "                             [--hidden_size2 HIDDEN_SIZE2]\n",
      "                             [--learning_rate LEARNING_RATE]\n",
      "                             [--batch_size BATCH_SIZE] [--epochs EPOCHS]\n",
      "                             [--weight_decay WEIGHT_DECAY]\n",
      "                             [--momentum MOMENTUM] [--device DEVICE]\n",
      "                             [--optimizer OPTIMIZER]\n",
      "                             [--lr_scheduler LR_SCHEDULER]\n",
      "                             [--criterion CRITERION] [--model MODEL]\n",
      "                             [--dataset DATASET]\n",
      "ipykernel_launcher.py: error: unrecognized arguments: --f=/home/futou/.local/share/jupyter/runtime/kernel-v2-525DbNyPyrt7xpa.json\n"
     ]
    },
    {
     "ename": "SystemExit",
     "evalue": "2",
     "output_type": "error",
     "traceback": [
      "An exception has occurred, use %tb to see the full traceback.\n",
      "\u001b[0;31mSystemExit\u001b[0m\u001b[0;31m:\u001b[0m 2\n"
     ]
    }
   ],
   "source": [
    "import arg_settings"
   ]
  },
  {
   "cell_type": "code",
   "execution_count": 1,
   "id": "cbcbe37bd3c3b1bc",
   "metadata": {},
   "outputs": [
    {
     "ename": "NameError",
     "evalue": "name 'arg_settings' is not defined",
     "output_type": "error",
     "traceback": [
      "\u001b[0;31m---------------------------------------------------------------------------\u001b[0m",
      "\u001b[0;31mNameError\u001b[0m                                 Traceback (most recent call last)",
      "Cell \u001b[0;32mIn[1], line 1\u001b[0m\n\u001b[0;32m----> 1\u001b[0m \u001b[43marg_settings\u001b[49m\u001b[38;5;241m.\u001b[39mTestData\u001b[38;5;241m.\u001b[39mshape\n",
      "\u001b[0;31mNameError\u001b[0m: name 'arg_settings' is not defined"
     ]
    }
   ],
   "source": [
    "arg_settings.TestData.shape"
   ]
  },
  {
   "cell_type": "code",
   "execution_count": null,
   "id": "b5a61e73",
   "metadata": {},
   "outputs": [],
   "source": []
  }
 ],
 "metadata": {
  "kernelspec": {
   "display_name": "Python 3",
   "language": "python",
   "name": "python3"
  },
  "language_info": {
   "codemirror_mode": {
    "name": "ipython",
    "version": 3
   },
   "file_extension": ".py",
   "mimetype": "text/x-python",
   "name": "python",
   "nbconvert_exporter": "python",
   "pygments_lexer": "ipython3",
   "version": "3.9.18"
  }
 },
 "nbformat": 4,
 "nbformat_minor": 5
}
