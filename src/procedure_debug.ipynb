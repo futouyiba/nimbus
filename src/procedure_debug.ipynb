{
 "cells": [
  {
   "cell_type": "code",
   "execution_count": 1,
   "metadata": {},
   "outputs": [
    {
     "name": "stdout",
     "output_type": "stream",
     "text": [
      "/home/futou/projects/cumulonimbus/nimbus/src\n",
      "workspace_path:  /home/futou/projects/cumulonimbus/nimbus/src/..\n",
      "current working directory:  /home/futou/projects/cumulonimbus/nimbus\n"
     ]
    }
   ],
   "source": [
    "import os\n",
    "print(os.path.abspath(''))\n",
    "\n",
    "workspace_path = os.path.join(os.path.abspath(''), '..')\n",
    "print(\"workspace_path: \", workspace_path)\n",
    "\n",
    "os.chdir(workspace_path)\n",
    "print(\"current working directory: \", os.getcwd())"
   ]
  },
  {
   "cell_type": "code",
   "execution_count": 2,
   "metadata": {},
   "outputs": [
    {
     "name": "stdout",
     "output_type": "stream",
     "text": [
      "target min tensor(0) target max tensor(2)\n",
      "start nimbus linear init, in_features: 14 out_features: 32 bias: False state: 1 codeblockCount: -1 treeDepth: 4\n",
      "start nimbus linear init, in_features: 32 out_features: 32 bias: False state: 1 codeblockCount: -1 treeDepth: 4\n",
      "start nimbus linear init, in_features: 32 out_features: 3 bias: False state: 1 codeblockCount: -1 treeDepth: 4\n",
      "nimbusLayer0FromArgSetting's memory address:  140282095310544\n",
      "140282095310544\n",
      "same?  True\n",
      "test data shape: torch.Size([50, 14])\n"
     ]
    }
   ],
   "source": [
    "import arg_settings\n",
    "\n",
    "\n",
    "nimbusLayer0FromArgSetting = arg_settings.ModelInstance.get_nimbus_layers()[0]\n",
    "# print nimbusLayer0FromArgSetting's memory address\n",
    "print(\"nimbusLayer0FromArgSetting's memory address: \", id(nimbusLayer0FromArgSetting))\n",
    "\n",
    "import train_procedure\n",
    "\n",
    "\n",
    "proc = train_procedure.TrainProcedure()\n",
    "proc.modelDataCombined\n",
    "nimbus0fromTrainProc = proc.nimbus_layers[0]\n",
    "print(id(nimbus0fromTrainProc))\n",
    "print(\"same? \", id(nimbus0fromTrainProc) == id(nimbusLayer0FromArgSetting))\n",
    "assert id(nimbus0fromTrainProc) == id(nimbusLayer0FromArgSetting)\n",
    "\n",
    "print(\"test data shape:\", arg_settings.TestData.shape)"
   ]
  },
  {
   "cell_type": "code",
   "execution_count": null,
   "metadata": {},
   "outputs": [],
   "source": [
    "model = arg_settings.ModelInstance.to(arg_settings.Device)\n",
    "\n",
    "proc.train_epochs(model, arg_settings.EpochsEach)\n",
    "proc.SaveInputCache(model)"
   ]
  },
  {
   "cell_type": "code",
   "execution_count": null,
   "metadata": {},
   "outputs": [],
   "source": [
    "from defines import *\n",
    "import defines"
   ]
  },
  {
   "cell_type": "code",
   "execution_count": null,
   "metadata": {},
   "outputs": [],
   "source": [
    "nimbusLayers = proc.nimbus_layers\n",
    "\n",
    "# replace each layer with differentiable MADDNESS layer, and retrain model iteratively\n",
    "for l in nimbusLayers:\n",
    "    l.set_state(NIMBUS_STATE_MATMUL_WITH_GRAD)\n",
    "\n",
    "for l in nimbusLayers:\n",
    "    proc.CurDMizedLayer = l\n",
    "    l.set_state(NIMBUS_STATE_DM_BACKPROP)\n",
    "    if proc.LastDMizedLayer is not None:\n",
    "        proc.LastDMizedLayer.set_state(NIMBUS_STATE_MADDNESS_ONLY)\n"
   ]
  },
  {
   "cell_type": "code",
   "execution_count": null,
   "metadata": {},
   "outputs": [],
   "source": [
    "# self.DM_next_layer(model)\n",
    "proc.train_epochs(model, arg_settings.EpochsEach)\n",
    "proc.LastDMizedLayer = l"
   ]
  },
  {
   "cell_type": "markdown",
   "metadata": {},
   "source": [
    "# 下面是debug用的状态重置"
   ]
  },
  {
   "cell_type": "code",
   "execution_count": null,
   "metadata": {},
   "outputs": [],
   "source": [
    "for l in nimbusLayers:\n",
    "    l.set_state(NIMBUS_STATE_MATMUL_WITH_GRAD)"
   ]
  }
 ],
 "metadata": {
  "kernelspec": {
   "display_name": "halutmatmul",
   "language": "python",
   "name": "python3"
  },
  "language_info": {
   "codemirror_mode": {
    "name": "ipython",
    "version": 3
   },
   "file_extension": ".py",
   "mimetype": "text/x-python",
   "name": "python",
   "nbconvert_exporter": "python",
   "pygments_lexer": "ipython3",
   "version": "3.9.18"
  }
 },
 "nbformat": 4,
 "nbformat_minor": 2
}
